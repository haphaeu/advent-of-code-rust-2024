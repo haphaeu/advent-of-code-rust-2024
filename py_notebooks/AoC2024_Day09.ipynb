{
 "cells": [
  {
   "cell_type": "code",
   "execution_count": 1,
   "id": "539e4efc-5f7c-4902-9844-61c5360082c4",
   "metadata": {},
   "outputs": [],
   "source": [
    "from enum import Enum\n",
    "from typing import List\n",
    "from getday import day"
   ]
  },
  {
   "cell_type": "code",
   "execution_count": 2,
   "id": "7943bf3e-c1e2-4845-9aa4-022f9d42053a",
   "metadata": {},
   "outputs": [],
   "source": [
    "FileType = Enum('Type', [('FILE', 1), ('FREE', 2),])\n",
    "\n",
    "def parse_input(example=True):\n",
    "    return [int(c) for c in day(9, example)+'0']\n",
    "\n",
    "def get_blocks(disk):\n",
    "    '''Disk(get_blocks(parse_input(input)))\n",
    "    '''\n",
    "    blocks = []\n",
    "    at = 0\n",
    "    for i, (file_size, free_size) in enumerate(zip((disk)[::2], (disk)[1::2])):\n",
    "        if file_size > 0:\n",
    "            blocks.append(File(at, i, file_size))\n",
    "            at += file_size\n",
    "        if free_size > 0:\n",
    "            blocks.append(Free(at, free_size))\n",
    "            at += free_size\n",
    "    return blocks\n",
    "   \n",
    "\n",
    "class Block:\n",
    "    def __init__(self, at:int, file_type: FileType, size: int):\n",
    "        self.at = at\n",
    "        self.file_type = file_type\n",
    "        self.size = size\n",
    "\n",
    "class File(Block):\n",
    "    def __init__(self, at:int, _id: int, size: int):\n",
    "        super().__init__(at=at, file_type=FileType.FILE, size=size)\n",
    "        self.id=_id\n",
    "        \n",
    "    def __repr__(self):\n",
    "        return f'File(at={self.at}, id={self.id}, size={self.size})'\n",
    "\n",
    "    def checksum(self):\n",
    "        return sum([self.id * sum(range(self.at, self.at+self.size))])\n",
    "        \n",
    "class Free(Block):\n",
    "    def __init__(self, at:int, size: int):\n",
    "        super().__init__(at=at, file_type=FileType.FREE, size=size)\n",
    "    def __repr__(self):\n",
    "        return f'Free(at={self.at}, size={self.size})'\n",
    "\n",
    "class Disk:\n",
    "    def __init__(self, blocks: List[Block]):\n",
    "        self.blocks = blocks\n",
    "\n",
    "    def checksum(self):\n",
    "        return sum([block.checksum() for block in self.blocks if isinstance(block, File)])\n",
    "\n",
    "    def get_block_at(self, at):\n",
    "        for block in self.blocks:\n",
    "            if block.at == at:\n",
    "                return block\n",
    "        return False\n",
    "        \n",
    "    def disk_map(self):\n",
    "        dm = ''\n",
    "        at = 0\n",
    "        while block := self.get_block_at(at):\n",
    "            c = '.' if isinstance(block, Free) else str(block.id)\n",
    "            dm += c * block.size\n",
    "            at += block.size\n",
    "            \n",
    "        return dm\n",
    "\n",
    "    def get_last_file(self):\n",
    "        for i in range(len(self.blocks)-1, -1, -1):\n",
    "            if isinstance(self.blocks[i], File):\n",
    "                return self.blocks.pop(i)\n",
    "        return False\n",
    "        \n",
    "    def find_free_space(self, at, size):\n",
    "        for i, block in enumerate(self.blocks):\n",
    "            if isinstance(block, Free) and block.size >= size and block.at < at:\n",
    "                return block, i\n",
    "        return False\n",
    "\n",
    "    def defrag(self):\n",
    "        dbg=False\n",
    "        blocks = self.blocks\n",
    "        \n",
    "        file_buffer = self.get_last_file()\n",
    "    \n",
    "        new_blocks = []\n",
    "\n",
    "        #for i in range(len(blocks)):\n",
    "        i = -1\n",
    "        while True:\n",
    "            i += 1\n",
    "            \n",
    "            if i == len(self.blocks):\n",
    "                break\n",
    "            \n",
    "            block = blocks[i]\n",
    "            if dbg: print('=== Processing block', block)\n",
    "            \n",
    "            if isinstance(block, File):\n",
    "                new_blocks.append(block)\n",
    "                if dbg: print('  Added to new blocks:', new_blocks[-1])\n",
    "                continue\n",
    "    \n",
    "            assert isinstance(block, Free)\n",
    "\n",
    "            while block.size > 0 and block.at < file_buffer.at:\n",
    "                if dbg: print('    --- Processing', block)\n",
    "                if dbg: print('    --- file buffer', file_buffer)\n",
    "                if block.size >= file_buffer.size:\n",
    "                    if dbg: print(f'    File id {file_buffer.id}, size {file_buffer.size} fits in free space size {block.size}')\n",
    "                    file_buffer.at = block.at\n",
    "                    new_blocks.append(file_buffer)\n",
    "                    if dbg: print(f'    Added to new blocks: file', new_blocks[-1])\n",
    "                    block.size -= file_buffer.size\n",
    "                    block.at += file_buffer.size\n",
    "                    file_buffer = self.get_last_file()\n",
    "                    if dbg: print(f'    Pop a new file buffer id {file_buffer}')\n",
    "                else:  # free block size < file size\n",
    "                    if dbg: print(f'    Free space {block.size} smaller than file {file_buffer.size}')\n",
    "                    file_frag = File(at=block.at, _id=file_buffer.id, size=block.size)\n",
    "                    if dbg: print('    Created a file frag:', file_frag)\n",
    "                    file_buffer.size -= block.size\n",
    "                    new_blocks.append(file_frag)\n",
    "                    if dbg: print(f'    Added to new blocks:', new_blocks[-1])\n",
    "                    if dbg: print(f'    Remaining file_buffer:', file_buffer)\n",
    "                    block.size = 0\n",
    "\n",
    "        # add last file buffer\n",
    "        if file_buffer.size > 0:\n",
    "            new_blocks.append(file_buffer)\n",
    "\n",
    "        self.blocks = new_blocks\n",
    "        \n",
    "        \n",
    "    def defrag2(self):\n",
    "        dbg=False\n",
    "        blocks = self.blocks\n",
    "        new_blocks=[]\n",
    "        while file := self.get_last_file():\n",
    "            if dbg: print(f'{file=}')\n",
    "            if block_i := self.find_free_space(file.at, file.size):\n",
    "                block, i = block_i\n",
    "                if dbg: print(f'Found enough free space at {block=}')\n",
    "                self.blocks.append(Free(file.at, file.size))\n",
    "                file.at = block.at\n",
    "                block.size -= file.size\n",
    "                block.at += file.size\n",
    "                if block.size == 0:\n",
    "                    if dbg: print(f'Deleting zero-sized free block', block)\n",
    "                    del self.blocks[i]\n",
    "                \n",
    "                if dbg: print(f'File moved, new file {file=}')\n",
    "            else:\n",
    "                if dbg: print('No free space found.')\n",
    "            new_blocks.append(file)\n",
    "        \n",
    "        new_blocks.extend([block for block in self.blocks if isinstance(block, Free)])        \n",
    "        self.blocks = new_blocks\n",
    "       "
   ]
  },
  {
   "cell_type": "code",
   "execution_count": 3,
   "id": "fb3af80c-8727-4e83-88ed-9ffe52eb694e",
   "metadata": {},
   "outputs": [],
   "source": [
    "def part1(example=True):\n",
    "    blocks = get_blocks(parse_input(example))\n",
    "    disk = Disk(blocks)\n",
    "    disk.defrag()\n",
    "    if example: print(disk.disk_map(), '\\n0099811188827773336446555566')\n",
    "    return disk.checksum()\n",
    "\n",
    "def part2(example=True):\n",
    "    blocks = get_blocks(parse_input(example))\n",
    "    disk = Disk(blocks)\n",
    "    #print(disk.disk_map())\n",
    "    disk.defrag2()\n",
    "    if example: print(disk.disk_map(), '\\n00992111777.44.333....5555.6666.....8888..')\n",
    "    #print(disk.blocks)\n",
    "    return disk.checksum()  "
   ]
  },
  {
   "cell_type": "code",
   "execution_count": 4,
   "id": "05294354-7551-4d2e-a9a0-2d41e349545e",
   "metadata": {},
   "outputs": [
    {
     "name": "stdout",
     "output_type": "stream",
     "text": [
      "0099811188827773336446555566 \n",
      "0099811188827773336446555566\n"
     ]
    },
    {
     "data": {
      "text/plain": [
       "1928"
      ]
     },
     "execution_count": 4,
     "metadata": {},
     "output_type": "execute_result"
    }
   ],
   "source": [
    "part1()\n",
    "#1928"
   ]
  },
  {
   "cell_type": "code",
   "execution_count": 5,
   "id": "be17665e-4655-4f88-9376-6dda2d5dd534",
   "metadata": {},
   "outputs": [
    {
     "name": "stdout",
     "output_type": "stream",
     "text": [
      "00992111777.44.333....5555.6666.....8888.. \n",
      "00992111777.44.333....5555.6666.....8888..\n"
     ]
    },
    {
     "data": {
      "text/plain": [
       "2858"
      ]
     },
     "execution_count": 5,
     "metadata": {},
     "output_type": "execute_result"
    }
   ],
   "source": [
    "part2()\n",
    "#2858"
   ]
  },
  {
   "cell_type": "code",
   "execution_count": 6,
   "id": "89e39f00-c13d-44ef-995b-7ccb6a4b6210",
   "metadata": {},
   "outputs": [
    {
     "name": "stdout",
     "output_type": "stream",
     "text": [
      "CPU times: user 1.12 s, sys: 0 ns, total: 1.12 s\n",
      "Wall time: 1.12 s\n"
     ]
    },
    {
     "data": {
      "text/plain": [
       "6337367222422"
      ]
     },
     "execution_count": 6,
     "metadata": {},
     "output_type": "execute_result"
    }
   ],
   "source": [
    "%time part1(example=False)\n",
    "#6337367222422"
   ]
  },
  {
   "cell_type": "code",
   "execution_count": 7,
   "id": "43cbd5f3-a8e6-42c3-851d-bc75923eff15",
   "metadata": {},
   "outputs": [
    {
     "name": "stdout",
     "output_type": "stream",
     "text": [
      "CPU times: user 17.1 s, sys: 17.9 ms, total: 17.1 s\n",
      "Wall time: 17.2 s\n"
     ]
    },
    {
     "data": {
      "text/plain": [
       "6361380647183"
      ]
     },
     "execution_count": 7,
     "metadata": {},
     "output_type": "execute_result"
    }
   ],
   "source": [
    "%time part2(example=False)\n",
    "#6361380647183"
   ]
  },
  {
   "cell_type": "code",
   "execution_count": null,
   "id": "e48657c2-d9c6-43d9-a5fb-700177a34a53",
   "metadata": {},
   "outputs": [],
   "source": []
  }
 ],
 "metadata": {
  "kernelspec": {
   "display_name": "Python 3 (ipykernel)",
   "language": "python",
   "name": "python3"
  },
  "language_info": {
   "codemirror_mode": {
    "name": "ipython",
    "version": 3
   },
   "file_extension": ".py",
   "mimetype": "text/x-python",
   "name": "python",
   "nbconvert_exporter": "python",
   "pygments_lexer": "ipython3",
   "version": "3.12.7"
  }
 },
 "nbformat": 4,
 "nbformat_minor": 5
}
