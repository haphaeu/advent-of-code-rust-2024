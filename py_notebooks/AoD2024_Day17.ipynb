{
 "cells": [
  {
   "cell_type": "code",
   "execution_count": 2,
   "id": "3cf1a900-d4a8-4695-b63a-4b718d50ad51",
   "metadata": {},
   "outputs": [],
   "source": [
    "import re\n",
    "from getday import day"
   ]
  },
  {
   "cell_type": "code",
   "execution_count": 3,
   "id": "cd636193-ceb5-43a6-bbfe-670ba02d9008",
   "metadata": {},
   "outputs": [],
   "source": [
    "def parse_input(example=True):\n",
    "    raw = day(17, example)\n",
    "    \n",
    "    pattern = r'.*Register [ABC]: (\\d+)\\n'\n",
    "    a, b, c = tuple(map(int, re.findall(pattern, raw)))\n",
    "    \n",
    "    pattern = r'.*Program: (.*)'\n",
    "    program = list(map(int, re.findall(pattern, raw)[0].split(',')))\n",
    "\n",
    "    return program, a, b, c"
   ]
  },
  {
   "cell_type": "code",
   "execution_count": 4,
   "id": "72cc184f-6fc2-4eda-a6fc-368afb363b8c",
   "metadata": {},
   "outputs": [],
   "source": [
    "def get_combo_operand(operand, a, b, c):\n",
    "    if operand < 4:\n",
    "        return operand\n",
    "    if operand == 4:\n",
    "        return a\n",
    "    if operand == 5:\n",
    "        return b\n",
    "    if operand == 6:\n",
    "        return c\n",
    "    return None"
   ]
  },
  {
   "cell_type": "code",
   "execution_count": 4,
   "id": "013a9a2f-0389-4973-b58b-5340f87ddff7",
   "metadata": {},
   "outputs": [],
   "source": [
    "def part1(example=True, dbg=False):\n",
    "    program, a, b, c = parse_input(example)\n",
    "    program_size = len(program)\n",
    "    \n",
    "    out = []\n",
    "    pointer = 0\n",
    "    \n",
    "    if dbg: print('Register A, Register B, Register C,  opcode, operand,    combo, instr')\n",
    "        \n",
    "    while pointer < program_size:\n",
    "    \n",
    "        opcode = program[pointer]\n",
    "        operand = program[pointer+1]\n",
    "        combo_operand = get_combo_operand(operand, a, b, c)\n",
    "        \n",
    "        if dbg: print(\n",
    "            '{:10d}, {:10d}, {:10d}, {:7d}, {:7d}, {:8d}, '.format(\n",
    "                a, b, c, opcode, operand, combo_operand if combo_operand else -1),\n",
    "            end='',\n",
    "        )\n",
    "        \n",
    "        if opcode == 0 or opcode == 6 or opcode == 7:  # adv, bdv, cdv\n",
    "            numerator = a\n",
    "            denominator = 2**combo_operand\n",
    "            res = int(numerator / denominator)\n",
    "            if opcode == 0:\n",
    "                if dbg: print('adv')\n",
    "                a = res\n",
    "            elif opcode == 6:\n",
    "                if dbg: print('bdv')\n",
    "                b = res\n",
    "            elif opcode == 7:\n",
    "                if dbg: print('cdv')\n",
    "                c = res\n",
    "            else:\n",
    "                raise Exception\n",
    "        elif opcode == 1:  # bxl\n",
    "            if dbg: print('bxl')\n",
    "            b = b ^ operand\n",
    "        elif opcode == 2:  # bst\n",
    "            if dbg: print('bst')\n",
    "            b = combo_operand % 8\n",
    "        elif opcode == 3:  # jnz\n",
    "            if dbg: print('jnz')\n",
    "            if a != 0:\n",
    "                pointer = operand\n",
    "                continue\n",
    "        elif opcode == 4:  # bxc\n",
    "            if dbg: print('bxc')\n",
    "            b = b ^ c\n",
    "        elif opcode == 5:  # out\n",
    "            if dbg: print('out')\n",
    "            out.append(combo_operand % 8)\n",
    "        else:\n",
    "            raise Exception\n",
    "            \n",
    "        pointer += 2    \n",
    "        \n",
    "    return ','.join(map(str, out))\n"
   ]
  },
  {
   "cell_type": "code",
   "execution_count": 5,
   "id": "65cba5d4-49c0-4548-aaa9-c9220dea20a3",
   "metadata": {},
   "outputs": [
    {
     "name": "stdout",
     "output_type": "stream",
     "text": [
      "4,6,3,5,6,3,5,2,1,0\n"
     ]
    }
   ],
   "source": [
    "print(part1())\n",
    "#4,6,3,5,6,3,5,2,1,0"
   ]
  },
  {
   "cell_type": "code",
   "execution_count": 6,
   "id": "58fa6286-65ad-4fc1-a330-86f376f401e1",
   "metadata": {},
   "outputs": [
    {
     "name": "stdout",
     "output_type": "stream",
     "text": [
      "Register A, Register B, Register C,  opcode, operand,    combo, instr\n",
      "  64012472,          0,          0,       2,       4, 64012472, bst\n",
      "  64012472,          0,          0,       1,       7,       -1, bxl\n",
      "  64012472,          7,          0,       7,       5,        7, cdv\n",
      "  64012472,          7,     500097,       0,       3,        3, adv\n",
      "   8001559,          7,     500097,       1,       7,       -1, bxl\n",
      "   8001559,          0,     500097,       4,       1,        1, bxc\n",
      "   8001559,     500097,     500097,       5,       5,   500097, out\n",
      "   8001559,     500097,     500097,       3,       0,       -1, jnz\n",
      "   8001559,     500097,     500097,       2,       4,  8001559, bst\n",
      "   8001559,          7,     500097,       1,       7,       -1, bxl\n",
      "   8001559,          0,     500097,       7,       5,       -1, cdv\n",
      "   8001559,          0,    8001559,       0,       3,        3, adv\n",
      "   1000194,          0,    8001559,       1,       7,       -1, bxl\n",
      "   1000194,          7,    8001559,       4,       1,        1, bxc\n",
      "   1000194,    8001552,    8001559,       5,       5,  8001552, out\n",
      "   1000194,    8001552,    8001559,       3,       0,       -1, jnz\n",
      "   1000194,    8001552,    8001559,       2,       4,  1000194, bst\n",
      "   1000194,          2,    8001559,       1,       7,       -1, bxl\n",
      "   1000194,          5,    8001559,       7,       5,        5, cdv\n",
      "   1000194,          5,      31256,       0,       3,        3, adv\n",
      "    125024,          5,      31256,       1,       7,       -1, bxl\n",
      "    125024,          2,      31256,       4,       1,        1, bxc\n",
      "    125024,      31258,      31256,       5,       5,    31258, out\n",
      "    125024,      31258,      31256,       3,       0,       -1, jnz\n",
      "    125024,      31258,      31256,       2,       4,   125024, bst\n",
      "    125024,          0,      31256,       1,       7,       -1, bxl\n",
      "    125024,          7,      31256,       7,       5,        7, cdv\n",
      "    125024,          7,        976,       0,       3,        3, adv\n",
      "     15628,          7,        976,       1,       7,       -1, bxl\n",
      "     15628,          0,        976,       4,       1,        1, bxc\n",
      "     15628,        976,        976,       5,       5,      976, out\n",
      "     15628,        976,        976,       3,       0,       -1, jnz\n",
      "     15628,        976,        976,       2,       4,    15628, bst\n",
      "     15628,          4,        976,       1,       7,       -1, bxl\n",
      "     15628,          3,        976,       7,       5,        3, cdv\n",
      "     15628,          3,       1953,       0,       3,        3, adv\n",
      "      1953,          3,       1953,       1,       7,       -1, bxl\n",
      "      1953,          4,       1953,       4,       1,        1, bxc\n",
      "      1953,       1957,       1953,       5,       5,     1957, out\n",
      "      1953,       1957,       1953,       3,       0,       -1, jnz\n",
      "      1953,       1957,       1953,       2,       4,     1953, bst\n",
      "      1953,          1,       1953,       1,       7,       -1, bxl\n",
      "      1953,          6,       1953,       7,       5,        6, cdv\n",
      "      1953,          6,         30,       0,       3,        3, adv\n",
      "       244,          6,         30,       1,       7,       -1, bxl\n",
      "       244,          1,         30,       4,       1,        1, bxc\n",
      "       244,         31,         30,       5,       5,       31, out\n",
      "       244,         31,         30,       3,       0,       -1, jnz\n",
      "       244,         31,         30,       2,       4,      244, bst\n",
      "       244,          4,         30,       1,       7,       -1, bxl\n",
      "       244,          3,         30,       7,       5,        3, cdv\n",
      "       244,          3,         30,       0,       3,        3, adv\n",
      "        30,          3,         30,       1,       7,       -1, bxl\n",
      "        30,          4,         30,       4,       1,        1, bxc\n",
      "        30,         26,         30,       5,       5,       26, out\n",
      "        30,         26,         30,       3,       0,       -1, jnz\n",
      "        30,         26,         30,       2,       4,       30, bst\n",
      "        30,          6,         30,       1,       7,       -1, bxl\n",
      "        30,          1,         30,       7,       5,        1, cdv\n",
      "        30,          1,         15,       0,       3,        3, adv\n",
      "         3,          1,         15,       1,       7,       -1, bxl\n",
      "         3,          6,         15,       4,       1,        1, bxc\n",
      "         3,          9,         15,       5,       5,        9, out\n",
      "         3,          9,         15,       3,       0,       -1, jnz\n",
      "         3,          9,         15,       2,       4,        3, bst\n",
      "         3,          3,         15,       1,       7,       -1, bxl\n",
      "         3,          4,         15,       7,       5,        4, cdv\n",
      "         3,          4,          0,       0,       3,        3, adv\n",
      "         0,          4,          0,       1,       7,       -1, bxl\n",
      "         0,          3,          0,       4,       1,        1, bxc\n",
      "         0,          3,          0,       5,       5,        3, out\n",
      "         0,          3,          0,       3,       0,       -1, jnz\n",
      "1,0,2,0,5,7,2,1,3\n"
     ]
    }
   ],
   "source": [
    "print(part1(example=False, dbg=True))\n",
    "#1,0,2,0,5,7,2,1,3"
   ]
  },
  {
   "cell_type": "code",
   "execution_count": 28,
   "id": "c88622f6-fd44-474d-b6e2-41a886f8efc8",
   "metadata": {},
   "outputs": [],
   "source": [
    "def part2(a, example=True, dbg=False):\n",
    "\n",
    "    if example:\n",
    "        program = [0, 3, 5, 4, 3, 0]\n",
    "        b, c = 0, 0\n",
    "    else:\n",
    "        program, _, b, c = parse_input(example)\n",
    " \n",
    "    program_size = len(program)\n",
    "\n",
    "    out = []\n",
    "    pointer = 0\n",
    "    \n",
    "    if dbg: print('Register A, Register B, Register C,  opcode, operand,    combo, instr')\n",
    "        \n",
    "    while pointer < program_size:\n",
    "    \n",
    "        opcode = program[pointer]\n",
    "        operand = program[pointer+1]\n",
    "        combo_operand = get_combo_operand(operand, a, b, c)\n",
    "        \n",
    "        if dbg: print(\n",
    "            '{:10d}, {:10d}, {:10d}, {:7d}, {:7d}, {:8d}, '.format(\n",
    "                a, b, c, opcode, operand, combo_operand if combo_operand else -1),\n",
    "            end='',\n",
    "        )\n",
    "        \n",
    "        if opcode == 0 or opcode == 6 or opcode == 7:  # adv, bdv, cdv\n",
    "            numerator = a\n",
    "            denominator = 2**combo_operand\n",
    "            res = int(numerator / denominator)\n",
    "            if opcode == 0:\n",
    "                if dbg: print('adv')\n",
    "                a = res\n",
    "            elif opcode == 6:\n",
    "                if dbg: print('bdv')\n",
    "                b = res\n",
    "            elif opcode == 7:\n",
    "                if dbg: print('cdv')\n",
    "                c = res\n",
    "            else:\n",
    "                raise Exception\n",
    "        elif opcode == 1:  # bxl\n",
    "            if dbg: print('bxl')\n",
    "            b = b ^ operand\n",
    "        elif opcode == 2:  # bst\n",
    "            if dbg: print('bst')\n",
    "            b = combo_operand % 8\n",
    "        elif opcode == 3:  # jnz\n",
    "            if dbg: print('jnz')\n",
    "            if a != 0:\n",
    "                pointer = operand\n",
    "                continue\n",
    "        elif opcode == 4:  # bxc\n",
    "            if dbg: print('bxc')\n",
    "            b = b ^ c\n",
    "        elif opcode == 5:  # out\n",
    "            out.append(combo_operand % 8)\n",
    "            if dbg: print('out:', out[-1])\n",
    "            if out != program[:len(out)]:\n",
    "                return False\n",
    "                \n",
    "        pointer +=2\n",
    "        \n",
    "    if out != program:\n",
    "        return False    \n",
    "    return ','.join(map(str, out))"
   ]
  },
  {
   "cell_type": "code",
   "execution_count": 29,
   "id": "aff75fad-e5b7-4156-af19-3b7c31bd00bc",
   "metadata": {},
   "outputs": [],
   "source": [
    "def doit(example=True):\n",
    "    a = 23798683+1\n",
    "    while True:\n",
    "        a += 1\n",
    "        if a % 1000 == 0:\n",
    "            print(a, end='\\r', flush=True)\n",
    "        if (ret := part2(a, example=example)):\n",
    "            print(a, ret)\n",
    "            break"
   ]
  },
  {
   "cell_type": "code",
   "execution_count": 17,
   "id": "cbf75909-98e1-4662-9a3b-b7be9719bfa4",
   "metadata": {},
   "outputs": [
    {
     "name": "stdout",
     "output_type": "stream",
     "text": [
      "117440 0,3,5,4,3,0\n"
     ]
    }
   ],
   "source": [
    "doit()\n",
    "#117440 0,3,5,4,3,0"
   ]
  },
  {
   "cell_type": "code",
   "execution_count": null,
   "id": "48b7e758-f311-4b82-a241-a34ab48a6967",
   "metadata": {},
   "outputs": [
    {
     "name": "stdout",
     "output_type": "stream",
     "text": [
      "26133000\r"
     ]
    }
   ],
   "source": [
    "doit(example=False)"
   ]
  },
  {
   "cell_type": "code",
   "execution_count": null,
   "id": "fe41fa52-7ff0-458d-b012-affb4b98092f",
   "metadata": {},
   "outputs": [],
   "source": []
  }
 ],
 "metadata": {
  "kernelspec": {
   "display_name": "Python 3 (ipykernel)",
   "language": "python",
   "name": "python3"
  },
  "language_info": {
   "codemirror_mode": {
    "name": "ipython",
    "version": 3
   },
   "file_extension": ".py",
   "mimetype": "text/x-python",
   "name": "python",
   "nbconvert_exporter": "python",
   "pygments_lexer": "ipython3",
   "version": "3.12.5"
  }
 },
 "nbformat": 4,
 "nbformat_minor": 5
}
