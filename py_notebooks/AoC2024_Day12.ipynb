{
 "cells": [
  {
   "cell_type": "code",
   "execution_count": 1,
   "id": "d97d85c3-cef9-43c4-922a-6a1dd5a0a5c5",
   "metadata": {},
   "outputs": [],
   "source": [
    "from getday import day\n",
    "import time"
   ]
  },
  {
   "cell_type": "code",
   "execution_count": 2,
   "id": "d337100d-313c-45b6-b9ba-e90739b8d03a",
   "metadata": {},
   "outputs": [
    {
     "name": "stdout",
     "output_type": "stream",
     "text": [
      "Part 1:  1433460\n",
      "Part 2: 855082\n",
      "et: 393ms\n"
     ]
    }
   ],
   "source": [
    "# Been really lazy today, read reddit before making this....\n",
    "\n",
    "start_time = time.time()\n",
    "\n",
    "example = False\n",
    "\n",
    "data = day(12, example)\n",
    "\n",
    "listoflines = [[y for y in x.strip()] for x in data.splitlines()]\n",
    "\n",
    "totalcost = 0\n",
    "origcost = 0\n",
    "direct = [[0, 1], [1, 0], [0, -1], [-1, 0]]\n",
    "borderDirect = [\n",
    "    [[1, 0], [-1,0]], \n",
    "    [[0, 1], [0, -1]], \n",
    "    [[1, 0], [-1, 0]],\n",
    "    [[0, 1], [0, -1]]\n",
    "]\n",
    "\n",
    "for x in range(len(listoflines)):\n",
    "    for y in range(len(listoflines[x])):\n",
    "        if listoflines[x][y]!='donethat':\n",
    "\n",
    "            toDo = [[listoflines[x][y],x,y]]\n",
    "            perim = 0\n",
    "            area = 0\n",
    "            newsides = 0\n",
    "            thisplot = set()\n",
    "            existingBorder = []\n",
    "\n",
    "            while len(toDo) != 0:\n",
    "\n",
    "                stillmatch,X,Y = toDo.pop()\n",
    "                if (X,Y) in thisplot:\n",
    "                    continue\n",
    "\n",
    "                area += 1\n",
    "                thisplot.add((X,Y))\n",
    "\n",
    "                for dnum in range(len(direct)):\n",
    "                    d = direct[dnum]\n",
    "                    if X+d[0] not in range(len(listoflines)) or  Y+d[1] not in range(len(listoflines[X])) or listoflines[X+d[0]][Y+d[1]]!=stillmatch:\n",
    "                       perim += 1\n",
    "                       existingBorder.append([dnum,X+d[0],Y+d[1]])\n",
    "\n",
    "                    elif listoflines[X+d[0]][Y+d[1]] == stillmatch and (X+d[0],Y+d[1]) not in thisplot:\n",
    "                        toDo.append([stillmatch, X + d[0], Y + d[1]])\n",
    "\n",
    "            for X,Y in thisplot:\n",
    "                listoflines[X][Y] = 'donethat'\n",
    "\n",
    "            existingBorder.sort()\n",
    "\n",
    "            for i in range(len(existingBorder)):\n",
    "                if existingBorder[i] != 'accountedfor':\n",
    "                    newsides += 1\n",
    "                    directnum,X,Y = existingBorder[i]\n",
    "                    thisside = set()\n",
    "                    toDo = [[directnum,X,Y]]\n",
    "                    while len(toDo) != 0:\n",
    "                        [zz,X1,Y1] = toDo.pop()\n",
    "                        if (X1,Y1) in thisside:\n",
    "                            continue\n",
    "\n",
    "                        thisside.add((directnum,X1,Y1))\n",
    "                        q=(directnum,X1+borderDirect[directnum][0][0],Y1+borderDirect[directnum][0][1]) \n",
    "                        if list(q) in existingBorder and q not in thisside:\n",
    "                            toDo.append(q)\n",
    "\n",
    "                        q=(directnum,X1+borderDirect[directnum][1][0],Y1+borderDirect[directnum][1][1]) \n",
    "                        if list(q) in existingBorder and q not in thisside:\n",
    "                            toDo.append(q)\n",
    "\n",
    "                    for P in thisside:\n",
    "                        existingBorder[existingBorder.index(list(P))]='accountedfor'\n",
    "\n",
    "            totalcost += (newsides * area)\n",
    "            origcost += (perim * area)\n",
    "\n",
    "print('Part 1: ', origcost)\n",
    "print('Part 2:', totalcost)\n",
    "ms = 1000 * (time.time() - start_time)\n",
    "print(f'et: {ms:.0f}ms')"
   ]
  },
  {
   "cell_type": "code",
   "execution_count": null,
   "id": "d0f14327-4b94-4b56-8d85-c779bea2b42f",
   "metadata": {},
   "outputs": [],
   "source": []
  }
 ],
 "metadata": {
  "kernelspec": {
   "display_name": "Python 3 (ipykernel)",
   "language": "python",
   "name": "python3"
  },
  "language_info": {
   "codemirror_mode": {
    "name": "ipython",
    "version": 3
   },
   "file_extension": ".py",
   "mimetype": "text/x-python",
   "name": "python",
   "nbconvert_exporter": "python",
   "pygments_lexer": "ipython3",
   "version": "3.12.7"
  }
 },
 "nbformat": 4,
 "nbformat_minor": 5
}
