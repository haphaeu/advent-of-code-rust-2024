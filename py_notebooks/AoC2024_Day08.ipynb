{
 "cells": [
  {
   "cell_type": "code",
   "execution_count": 30,
   "id": "f3aa0b6d-13f4-484f-9740-3aefe16e49b8",
   "metadata": {},
   "outputs": [],
   "source": [
    "import itertools"
   ]
  },
  {
   "cell_type": "code",
   "execution_count": 64,
   "id": "888d873e-a28a-494c-9ee0-e66b72187441",
   "metadata": {},
   "outputs": [],
   "source": [
    "def get_raw_input():\n",
    "    if False:\n",
    "        return \"\"\"............\n",
    "........0...\n",
    ".....0......\n",
    ".......0....\n",
    "....0.......\n",
    "......A.....\n",
    "............\n",
    "............\n",
    "........A...\n",
    ".........A..\n",
    "............\n",
    "............\"\"\"\n",
    "    else:\n",
    "        return \"\"\"......................D....B...h..................\n",
    "..............................h...................\n",
    ".............D...3.....X..................9.......\n",
    "...........C........X....2.hB......v........b.....\n",
    "....................................O.............\n",
    "......u.....3.........p...........................\n",
    "....u......................v....6.................\n",
    "......................y..D.....Ov.2..............b\n",
    ".....u..........X...........o........y............\n",
    ".........................y...B.f...........s......\n",
    ".7....................C.2.....Bsyp..........t...q.\n",
    ".u.7...........X............................Oe..t.\n",
    "...........V........3......6v.s........o....h....t\n",
    "..E........L.................6..........o......9..\n",
    "........E......m.2.P.......O...9...8....b.........\n",
    "..m..........3.......p..........M8................\n",
    "..1.....................K.p....................b.e\n",
    "5...............L...........s.6..........S.M......\n",
    "....5..1.......E.........k.f.........M............\n",
    ".E..Y..V......l.......T...D.......9....Q..........\n",
    "..............................M...................\n",
    ".....5....P................m...x..q......F......e.\n",
    "................f...c......................x..F...\n",
    "..V.C...........7.......a....o....8.........F.....\n",
    ".......4....L.a..g..P.....8......Q....7d..........\n",
    "...1......4..a............k......t...d............\n",
    "..........V..........L....m........K....Q........S\n",
    "..................1....k.....T....................\n",
    "..........l......a...............F................\n",
    "...........P...4.......l......x...................\n",
    ".............c....g........T......................\n",
    ".....g............c...Q.......................S...\n",
    "...............l..................A.d.T.U.........\n",
    "..........................f...0.............d.....\n",
    "..........G..................A............e.S...x.\n",
    ".........Y.......q........g....K..................\n",
    ".....................q.H4...0.................j...\n",
    "....................HA..............J.............\n",
    "..Y..........................0...J.......j........\n",
    ".......................G.JA...................U...\n",
    ".......5..........................................\n",
    "...........c..............G.........K.............\n",
    "...............................G..................\n",
    "...........................0.j....................\n",
    "............................H.......k..........U..\n",
    ".........................H........................\n",
    "...................................Y....J.........\n",
    "..................................j...............\n",
    "..................................................\n",
    "..................................................\"\"\""
   ]
  },
  {
   "cell_type": "code",
   "execution_count": 83,
   "id": "b2eb5f36-e049-43e5-9409-1f955415b69f",
   "metadata": {},
   "outputs": [],
   "source": [
    "def find_coords(frequency, lines):\n",
    "    coords = []\n",
    "    for i, line in enumerate(lines):\n",
    "        j = line.find(frequency)\n",
    "        if j >=0:\n",
    "            assert line.count(frequency) == 1\n",
    "            coords.append((i, j))\n",
    "    return coords\n",
    "\n",
    "def calc_antinodes(coords, size):\n",
    "    antinodes = set()\n",
    "    for (i1, j1), (i2, j2) in itertools.combinations(coords, r=2):\n",
    "        #distance between antennas\n",
    "        di, dj = i2 - i1, j2 - j1\n",
    "        # antinodes\n",
    "        an1i, an1j = i1 - di, j1 - dj\n",
    "        an2i, an2j = i2 + di, j2 + dj\n",
    "        if 0 <= an1i < size and 0 <= an1j < size:\n",
    "            antinodes.add((an1i, an1j))\n",
    "        if 0 <= an2i < size and 0 <= an2j < size:\n",
    "            antinodes.add((an2i, an2j))\n",
    "    return antinodes\n",
    "\n",
    "def calc_antinodes2(coords, size):\n",
    "    antinodes = set()\n",
    "    for (i1, j1), (i2, j2) in itertools.combinations(coords, r=2):\n",
    "        #distance between antennas\n",
    "        di, dj = i2 - i1, j2 - j1\n",
    "        # antinodes\n",
    "        n = 0\n",
    "        while True:\n",
    "            out1, out2 = False, False\n",
    "            an1i, an1j = i1 - n*di, j1 - n*dj\n",
    "            an2i, an2j = i2 + n*di, j2 + n*dj\n",
    "            if 0 <= an1i < size and 0 <= an1j < size:\n",
    "                antinodes.add((an1i, an1j))\n",
    "            else:\n",
    "                out1 = True\n",
    "            if 0 <= an2i < size and 0 <= an2j < size:\n",
    "                antinodes.add((an2i, an2j))\n",
    "            else:\n",
    "                out2 = True\n",
    "            if out1 and out2:\n",
    "                break\n",
    "            n += 1\n",
    "    return antinodes"
   ]
  },
  {
   "cell_type": "code",
   "execution_count": null,
   "id": "18840acd-1ef4-430b-80d4-1704d7a292bb",
   "metadata": {},
   "outputs": [],
   "source": []
  },
  {
   "cell_type": "code",
   "execution_count": 84,
   "id": "b25fadda-a19b-4ddd-8466-fcfe462ff02d",
   "metadata": {},
   "outputs": [],
   "source": [
    "def parts(get_antinodes):\n",
    "\n",
    "    data = get_raw_input()\n",
    "    data_lines = data.splitlines()\n",
    "    \n",
    "    size = len(data_lines)\n",
    "    assert len(data_lines) == len(data_lines[0])\n",
    "    \n",
    "    frequencies = set(data.replace('.', '').replace('\\n', ''))\n",
    "    \n",
    "    antinodes = set()\n",
    "    for f in frequencies:\n",
    "        antinodes.update(get_antinodes(find_coords(f, data_lines), size))\n",
    "    return len(antinodes)\n",
    "\n",
    "def part1():\n",
    "    return parts(calc_antinodes)\n",
    "\n",
    "def part2():\n",
    "    return parts(calc_antinodes2)"
   ]
  },
  {
   "cell_type": "code",
   "execution_count": 85,
   "id": "fa5324d7-ec11-4641-8e7f-054954470c5d",
   "metadata": {},
   "outputs": [
    {
     "name": "stdout",
     "output_type": "stream",
     "text": [
      "CPU times: total: 0 ns\n",
      "Wall time: 2.22 ms\n"
     ]
    },
    {
     "data": {
      "text/plain": [
       "381"
      ]
     },
     "execution_count": 85,
     "metadata": {},
     "output_type": "execute_result"
    }
   ],
   "source": [
    "%time part1()"
   ]
  },
  {
   "cell_type": "code",
   "execution_count": 86,
   "id": "9f2fccca-aa97-45d9-8f1b-b1d428ff01a5",
   "metadata": {},
   "outputs": [
    {
     "name": "stdout",
     "output_type": "stream",
     "text": [
      "CPU times: total: 0 ns\n",
      "Wall time: 4 ms\n"
     ]
    },
    {
     "data": {
      "text/plain": [
       "1184"
      ]
     },
     "execution_count": 86,
     "metadata": {},
     "output_type": "execute_result"
    }
   ],
   "source": [
    "%time part2()"
   ]
  },
  {
   "cell_type": "code",
   "execution_count": null,
   "id": "5e8e165a-0bfb-429a-b8c8-e4c4b0cf9768",
   "metadata": {},
   "outputs": [],
   "source": []
  }
 ],
 "metadata": {
  "kernelspec": {
   "display_name": "Python 3 (ipykernel)",
   "language": "python",
   "name": "python3"
  },
  "language_info": {
   "codemirror_mode": {
    "name": "ipython",
    "version": 3
   },
   "file_extension": ".py",
   "mimetype": "text/x-python",
   "name": "python",
   "nbconvert_exporter": "python",
   "pygments_lexer": "ipython3",
   "version": "3.12.5"
  }
 },
 "nbformat": 4,
 "nbformat_minor": 5
}
