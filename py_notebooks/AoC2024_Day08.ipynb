{
 "cells": [
  {
   "cell_type": "code",
   "execution_count": 1,
   "id": "f3aa0b6d-13f4-484f-9740-3aefe16e49b8",
   "metadata": {},
   "outputs": [],
   "source": [
    "import itertools\n",
    "from getday import day"
   ]
  },
  {
   "cell_type": "code",
   "execution_count": 2,
   "id": "888d873e-a28a-494c-9ee0-e66b72187441",
   "metadata": {},
   "outputs": [],
   "source": [
    "def get_raw_input(example=True):\n",
    "    return day(8, example)"
   ]
  },
  {
   "cell_type": "code",
   "execution_count": 3,
   "id": "b2eb5f36-e049-43e5-9409-1f955415b69f",
   "metadata": {},
   "outputs": [],
   "source": [
    "def find_coords(frequency, lines):\n",
    "    coords = []\n",
    "    for i, line in enumerate(lines):\n",
    "        j = line.find(frequency)\n",
    "        if j >=0:\n",
    "            assert line.count(frequency) == 1\n",
    "            coords.append((i, j))\n",
    "    return coords\n",
    "\n",
    "def calc_antinodes(coords, size):\n",
    "    antinodes = set()\n",
    "    for (i1, j1), (i2, j2) in itertools.combinations(coords, r=2):\n",
    "        #distance between antennas\n",
    "        di, dj = i2 - i1, j2 - j1\n",
    "        # antinodes\n",
    "        an1i, an1j = i1 - di, j1 - dj\n",
    "        an2i, an2j = i2 + di, j2 + dj\n",
    "        if 0 <= an1i < size and 0 <= an1j < size:\n",
    "            antinodes.add((an1i, an1j))\n",
    "        if 0 <= an2i < size and 0 <= an2j < size:\n",
    "            antinodes.add((an2i, an2j))\n",
    "    return antinodes\n",
    "\n",
    "def calc_antinodes2(coords, size):\n",
    "    antinodes = set()\n",
    "    for (i1, j1), (i2, j2) in itertools.combinations(coords, r=2):\n",
    "        #distance between antennas\n",
    "        di, dj = i2 - i1, j2 - j1\n",
    "        # antinodes\n",
    "        n = 0\n",
    "        while True:\n",
    "            out1, out2 = False, False\n",
    "            an1i, an1j = i1 - n*di, j1 - n*dj\n",
    "            an2i, an2j = i2 + n*di, j2 + n*dj\n",
    "            if 0 <= an1i < size and 0 <= an1j < size:\n",
    "                antinodes.add((an1i, an1j))\n",
    "            else:\n",
    "                out1 = True\n",
    "            if 0 <= an2i < size and 0 <= an2j < size:\n",
    "                antinodes.add((an2i, an2j))\n",
    "            else:\n",
    "                out2 = True\n",
    "            if out1 and out2:\n",
    "                break\n",
    "            n += 1\n",
    "    return antinodes"
   ]
  },
  {
   "cell_type": "code",
   "execution_count": null,
   "id": "18840acd-1ef4-430b-80d4-1704d7a292bb",
   "metadata": {},
   "outputs": [],
   "source": []
  },
  {
   "cell_type": "code",
   "execution_count": 4,
   "id": "b25fadda-a19b-4ddd-8466-fcfe462ff02d",
   "metadata": {},
   "outputs": [],
   "source": [
    "def parts(get_antinodes, example=True):\n",
    "\n",
    "    data = get_raw_input(example)\n",
    "    data_lines = data.splitlines()\n",
    "    \n",
    "    size = len(data_lines)\n",
    "    assert len(data_lines) == len(data_lines[0])\n",
    "    \n",
    "    frequencies = set(data.replace('.', '').replace('\\n', ''))\n",
    "    \n",
    "    antinodes = set()\n",
    "    for f in frequencies:\n",
    "        antinodes.update(get_antinodes(find_coords(f, data_lines), size))\n",
    "    return len(antinodes)\n",
    "\n",
    "def part1(example=True):\n",
    "    return parts(calc_antinodes, example)\n",
    "\n",
    "def part2(example=True):\n",
    "    return parts(calc_antinodes2, example)"
   ]
  },
  {
   "cell_type": "code",
   "execution_count": 5,
   "id": "fa5324d7-ec11-4641-8e7f-054954470c5d",
   "metadata": {},
   "outputs": [
    {
     "name": "stdout",
     "output_type": "stream",
     "text": [
      "CPU times: user 603 μs, sys: 69 μs, total: 672 μs\n",
      "Wall time: 484 μs\n"
     ]
    },
    {
     "data": {
      "text/plain": [
       "14"
      ]
     },
     "execution_count": 5,
     "metadata": {},
     "output_type": "execute_result"
    }
   ],
   "source": [
    "%time part1()\n",
    "# 14"
   ]
  },
  {
   "cell_type": "code",
   "execution_count": 6,
   "id": "9f2fccca-aa97-45d9-8f1b-b1d428ff01a5",
   "metadata": {},
   "outputs": [
    {
     "name": "stdout",
     "output_type": "stream",
     "text": [
      "CPU times: user 779 μs, sys: 87 μs, total: 866 μs\n",
      "Wall time: 637 μs\n"
     ]
    },
    {
     "data": {
      "text/plain": [
       "34"
      ]
     },
     "execution_count": 6,
     "metadata": {},
     "output_type": "execute_result"
    }
   ],
   "source": [
    "%time part2()\n",
    "# 34"
   ]
  },
  {
   "cell_type": "code",
   "execution_count": 7,
   "id": "5e8e165a-0bfb-429a-b8c8-e4c4b0cf9768",
   "metadata": {},
   "outputs": [
    {
     "name": "stdout",
     "output_type": "stream",
     "text": [
      "CPU times: user 2.85 ms, sys: 0 ns, total: 2.85 ms\n",
      "Wall time: 2.6 ms\n"
     ]
    },
    {
     "data": {
      "text/plain": [
       "381"
      ]
     },
     "execution_count": 7,
     "metadata": {},
     "output_type": "execute_result"
    }
   ],
   "source": [
    "%time part1(example=False)\n",
    "# 381"
   ]
  },
  {
   "cell_type": "code",
   "execution_count": 8,
   "id": "cc5f1721-fbed-4096-8122-d3e97b0e372b",
   "metadata": {},
   "outputs": [
    {
     "name": "stdout",
     "output_type": "stream",
     "text": [
      "CPU times: user 3.97 ms, sys: 0 ns, total: 3.97 ms\n",
      "Wall time: 3.9 ms\n"
     ]
    },
    {
     "data": {
      "text/plain": [
       "1184"
      ]
     },
     "execution_count": 8,
     "metadata": {},
     "output_type": "execute_result"
    }
   ],
   "source": [
    "%time part2(example=False)\n",
    "# 1184"
   ]
  },
  {
   "cell_type": "code",
   "execution_count": null,
   "id": "64439840-62ce-4ad4-952e-48e9de78ebcc",
   "metadata": {},
   "outputs": [],
   "source": []
  }
 ],
 "metadata": {
  "kernelspec": {
   "display_name": "Python 3 (ipykernel)",
   "language": "python",
   "name": "python3"
  },
  "language_info": {
   "codemirror_mode": {
    "name": "ipython",
    "version": 3
   },
   "file_extension": ".py",
   "mimetype": "text/x-python",
   "name": "python",
   "nbconvert_exporter": "python",
   "pygments_lexer": "ipython3",
   "version": "3.12.7"
  }
 },
 "nbformat": 4,
 "nbformat_minor": 5
}
