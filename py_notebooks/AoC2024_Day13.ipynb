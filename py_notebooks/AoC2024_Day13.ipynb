{
 "cells": [
  {
   "cell_type": "code",
   "execution_count": 34,
   "id": "1522e72a-6f7e-4ee6-b8ec-ca019e0716bc",
   "metadata": {},
   "outputs": [],
   "source": [
    "from getday import day"
   ]
  },
  {
   "cell_type": "code",
   "execution_count": 83,
   "id": "3a6b148d-731b-4aeb-8daa-a84f0cd186eb",
   "metadata": {},
   "outputs": [],
   "source": [
    "lines = day(13, example=False).strip().splitlines()\n",
    "\n",
    "def parse_line(line):\n",
    "    return line.replace('Button', '').replace('Prize:', '').replace('A: X+', '').replace('B: X', '').replace('Y+', '').replace('X=', '').replace('Y=', '').split(',')\n",
    "\n",
    "def get_tokens(cte=0):\n",
    "    tokens = 0\n",
    "    for i in range(0, len(lines), 4):\n",
    "        ax, ay = map(int, parse_line(lines[i]))\n",
    "        bx, by = map(int, parse_line(lines[i+1]))\n",
    "        px, py = map(int, parse_line(lines[i+2]))\n",
    "        px, py = px+cte, py+cte\n",
    "        if (ay*px-ax*py) % (ay*bx-ax*by) == 0:\n",
    "            nb = (ay*px-ax*py) / (ay*bx-ax*by)\n",
    "            if (px - bx * nb) % ax == 0:\n",
    "                na = (px - bx*nb) / ax\n",
    "                tokens += 3 * na + nb\n",
    "    return int(tokens)\n",
    "    \n",
    "def part1():\n",
    "    return get_tokens(0)\n",
    "    \n",
    "def part2():\n",
    "    return get_tokens(10000000000000)"
   ]
  },
  {
   "cell_type": "code",
   "execution_count": 84,
   "id": "055b9a5c-bb56-4970-a0d1-84180e0adea1",
   "metadata": {},
   "outputs": [
    {
     "name": "stdout",
     "output_type": "stream",
     "text": [
      "CPU times: total: 0 ns\n",
      "Wall time: 1.52 ms\n"
     ]
    },
    {
     "data": {
      "text/plain": [
       "36838"
      ]
     },
     "execution_count": 84,
     "metadata": {},
     "output_type": "execute_result"
    }
   ],
   "source": [
    "%time part1()"
   ]
  },
  {
   "cell_type": "code",
   "execution_count": 85,
   "id": "9473ccf1-2613-4af7-9bfc-1971fc6f8496",
   "metadata": {},
   "outputs": [
    {
     "name": "stdout",
     "output_type": "stream",
     "text": [
      "CPU times: total: 0 ns\n",
      "Wall time: 3.02 ms\n"
     ]
    },
    {
     "data": {
      "text/plain": [
       "83029436920891"
      ]
     },
     "execution_count": 85,
     "metadata": {},
     "output_type": "execute_result"
    }
   ],
   "source": [
    "%time part2()"
   ]
  },
  {
   "cell_type": "code",
   "execution_count": null,
   "id": "761aa8e7-3f03-43e9-bbff-2c8b635d68d4",
   "metadata": {},
   "outputs": [],
   "source": []
  }
 ],
 "metadata": {
  "kernelspec": {
   "display_name": "Python 3 (ipykernel)",
   "language": "python",
   "name": "python3"
  },
  "language_info": {
   "codemirror_mode": {
    "name": "ipython",
    "version": 3
   },
   "file_extension": ".py",
   "mimetype": "text/x-python",
   "name": "python",
   "nbconvert_exporter": "python",
   "pygments_lexer": "ipython3",
   "version": "3.12.5"
  }
 },
 "nbformat": 4,
 "nbformat_minor": 5
}
