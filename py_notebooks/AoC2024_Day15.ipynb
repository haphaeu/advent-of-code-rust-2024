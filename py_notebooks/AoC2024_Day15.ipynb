{
 "cells": [
  {
   "cell_type": "code",
   "execution_count": 1,
   "id": "de6e04cb-68ec-4e36-8c58-6969a7c10f5e",
   "metadata": {},
   "outputs": [],
   "source": [
    "from getday import day"
   ]
  },
  {
   "cell_type": "code",
   "execution_count": 2,
   "id": "edc1db05-267b-40b7-94ea-30c9c9b0d220",
   "metadata": {},
   "outputs": [],
   "source": [
    "def parse_input(input) :\n",
    "    storehouse = []\n",
    "    moves = []\n",
    "    robot_i, robot_j = 0, 0\n",
    "    flag_moves = False\n",
    "    for i, line in enumerate(input.strip().splitlines()):\n",
    "        if line == '':\n",
    "            flag_moves = True\n",
    "            continue\n",
    "        if '@' in line:\n",
    "            robot_i, robot_j = i, line.find('@')\n",
    "        chars = [c for c in line]\n",
    "        if not flag_moves:\n",
    "            storehouse.append(chars)\n",
    "        else:\n",
    "            moves.extend(chars)\n",
    "    return storehouse, moves, robot_i, robot_j"
   ]
  },
  {
   "cell_type": "code",
   "execution_count": 3,
   "id": "0ae3d789-d686-4b19-9587-61f2223e82ec",
   "metadata": {},
   "outputs": [],
   "source": [
    "def show(storehouse):\n",
    "    print('\\n'.join([''.join(line) for line in storehouse]))\n",
    "\n",
    "def calc_gps_coords(storehouse):\n",
    "    score = 0\n",
    "    for i, line in enumerate(storehouse):\n",
    "        for j, c in enumerate(line):\n",
    "            if c == 'O':\n",
    "                score += 100 * i + j\n",
    "    return score\n",
    "\n",
    "def get_delta_pos(move):\n",
    "    if move == '^':\n",
    "        return -1, 0\n",
    "    if move == 'v':\n",
    "        return 1, 0\n",
    "    if move == '>':\n",
    "        return 0, 1\n",
    "    if move == '<':\n",
    "        return 0, -1\n",
    "\n",
    "def part1(example=True, dbg=False):\n",
    "    \n",
    "    storehouse, moves, robot_i, robot_j = parse_input(day(15, example))\n",
    "    \n",
    "    for move in moves:\n",
    "        if dbg: print('\\n==> Trying move', move)\n",
    "        di, dj = get_delta_pos(move)\n",
    "        i_try, j_try = robot_i + di, robot_j + dj\n",
    "        if storehouse[i_try][j_try] == '#':\n",
    "            if dbg: print('hit a wall')\n",
    "        elif storehouse[i_try][j_try] == '.':\n",
    "            if dbg: print('empty space, moving')\n",
    "            storehouse[robot_i][robot_j] = '.'\n",
    "            robot_i, robot_j = i_try, j_try\n",
    "            storehouse[robot_i][robot_j] = '@'\n",
    "        elif storehouse[i_try][j_try] == 'O':\n",
    "            if dbg: print('try to move a box')\n",
    "            i, j = i_try, j_try\n",
    "            while storehouse[i][j] == 'O':\n",
    "                i, j = i+di, j+dj\n",
    "            if storehouse[i][j] == '#':\n",
    "                if dbg: print('not possible, box[es] touch wall')\n",
    "            else:\n",
    "                assert storehouse[i][j] == '.', \"Error - expected empty\"\n",
    "                if dbg: print('moving box[es]')\n",
    "                storehouse[i][j] = 'O'\n",
    "                storehouse[robot_i][robot_j] = '.'\n",
    "                robot_i, robot_j = i_try, j_try\n",
    "                storehouse[robot_i][robot_j] = '@'\n",
    "        else:\n",
    "            print('ERROR - unreachable')\n",
    "        if dbg: show(storehouse)\n",
    "        \n",
    "    return calc_gps_coords(storehouse)"
   ]
  },
  {
   "cell_type": "code",
   "execution_count": 4,
   "id": "0f7be2e7-4476-4f8a-8c86-480717353660",
   "metadata": {},
   "outputs": [
    {
     "data": {
      "text/plain": [
       "10092"
      ]
     },
     "execution_count": 4,
     "metadata": {},
     "output_type": "execute_result"
    }
   ],
   "source": [
    "part1(example=True)\n",
    "# 10092"
   ]
  },
  {
   "cell_type": "code",
   "execution_count": 5,
   "id": "61f26455-1549-4f12-9ac9-4a4b68a9683f",
   "metadata": {},
   "outputs": [
    {
     "name": "stdout",
     "output_type": "stream",
     "text": [
      "CPU times: user 19.7 ms, sys: 9.56 ms, total: 29.2 ms\n",
      "Wall time: 26.6 ms\n"
     ]
    },
    {
     "data": {
      "text/plain": [
       "1568399"
      ]
     },
     "execution_count": 5,
     "metadata": {},
     "output_type": "execute_result"
    }
   ],
   "source": [
    "%time part1(example=False)\n",
    "# 1568399"
   ]
  },
  {
   "cell_type": "code",
   "execution_count": null,
   "id": "4bf7e349-d812-4ffb-acf1-835854916cff",
   "metadata": {},
   "outputs": [],
   "source": []
  }
 ],
 "metadata": {
  "kernelspec": {
   "display_name": "Python 3 (ipykernel)",
   "language": "python",
   "name": "python3"
  },
  "language_info": {
   "codemirror_mode": {
    "name": "ipython",
    "version": 3
   },
   "file_extension": ".py",
   "mimetype": "text/x-python",
   "name": "python",
   "nbconvert_exporter": "python",
   "pygments_lexer": "ipython3",
   "version": "3.12.7"
  }
 },
 "nbformat": 4,
 "nbformat_minor": 5
}
