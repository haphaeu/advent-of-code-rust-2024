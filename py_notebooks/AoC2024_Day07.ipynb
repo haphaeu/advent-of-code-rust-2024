{
 "cells": [
  {
   "cell_type": "code",
   "execution_count": 9,
   "id": "f4088ae2-f640-478b-a8df-4fa2409dadd9",
   "metadata": {},
   "outputs": [],
   "source": [
    "import itertools\n",
    "from getday import day"
   ]
  },
  {
   "cell_type": "code",
   "execution_count": 10,
   "id": "50de5258-b24b-4302-b520-0c7cbf2a5f93",
   "metadata": {},
   "outputs": [],
   "source": [
    "def get_input(example=True):\n",
    "    input = day(7, example).replace(':', '')\n",
    "    return [[int(a) for a in line.split()]for line in input.splitlines()]"
   ]
  },
  {
   "cell_type": "code",
   "execution_count": 19,
   "id": "b22c11af-2cc4-4980-b2b6-0d1b89cad705",
   "metadata": {},
   "outputs": [],
   "source": [
    "def add(a, b):\n",
    "    return a + b\n",
    "def mul(a, b):\n",
    "    return a * b\n",
    "def concat(a, b):\n",
    "    return int(str(a)+str(b))\n",
    "    \n",
    "def solve(values, funcs):\n",
    "    res = funcs[0](values[0], values[1])\n",
    "    if len(values) == 2:\n",
    "        return res\n",
    "        \n",
    "    values0 = [res]\n",
    "    values0.extend(values[2:])\n",
    "    return solve(values0, funcs[1:])\n",
    "\n",
    "def check_valid(values, possible_operations):\n",
    "    result = values[0]\n",
    "    values = values[1:]\n",
    "    symbols_list = list(itertools.product(possible_operations, repeat=len(values)-1))\n",
    "    equations = []\n",
    "    for symbols in symbols_list:\n",
    "        equation = []\n",
    "        for symbol in symbols:\n",
    "            equation.append(add if symbol == '+' else (mul if symbol == '*' else concat))\n",
    "        equations.append(equation)\n",
    "        \n",
    "    for equation in equations:\n",
    "        if solve(values, equation) == result:\n",
    "            return result\n",
    "    return False\n",
    "\n",
    "def parts(operators, example=True):\n",
    "    data = get_input(example)\n",
    "    total = 0\n",
    "    for values in data:\n",
    "        if (res := check_valid(values, operators)):\n",
    "            total += res\n",
    "    return total\n",
    "\n",
    "def part1(example=True):\n",
    "    return parts('+*', example)\n",
    "\n",
    "def part2(example=True):\n",
    "    return parts('+*|', example)    "
   ]
  },
  {
   "cell_type": "code",
   "execution_count": 20,
   "id": "b9fe3aff-42c1-4b60-8541-cfba599d1899",
   "metadata": {},
   "outputs": [
    {
     "name": "stdout",
     "output_type": "stream",
     "text": [
      "CPU times: user 1.9 ms, sys: 0 ns, total: 1.9 ms\n",
      "Wall time: 1.35 ms\n"
     ]
    },
    {
     "data": {
      "text/plain": [
       "3749"
      ]
     },
     "execution_count": 20,
     "metadata": {},
     "output_type": "execute_result"
    }
   ],
   "source": [
    "%time part1()\n",
    "#2437272016585"
   ]
  },
  {
   "cell_type": "code",
   "execution_count": 24,
   "id": "20fe9c91-c0ab-4ed7-8645-822ba4d3acea",
   "metadata": {},
   "outputs": [
    {
     "name": "stdout",
     "output_type": "stream",
     "text": [
      "CPU times: user 0 ns, sys: 2.6 ms, total: 2.6 ms\n",
      "Wall time: 1.75 ms\n"
     ]
    },
    {
     "data": {
      "text/plain": [
       "11387"
      ]
     },
     "execution_count": 24,
     "metadata": {},
     "output_type": "execute_result"
    }
   ],
   "source": [
    "%time part2()\n",
    "#162987117690649"
   ]
  },
  {
   "cell_type": "code",
   "execution_count": 22,
   "id": "8bbbd9a9-b86b-44de-9082-603612a17db6",
   "metadata": {},
   "outputs": [
    {
     "name": "stdout",
     "output_type": "stream",
     "text": [
      "CPU times: user 1.67 s, sys: 0 ns, total: 1.67 s\n",
      "Wall time: 1.68 s\n"
     ]
    },
    {
     "data": {
      "text/plain": [
       "2437272016585"
      ]
     },
     "execution_count": 22,
     "metadata": {},
     "output_type": "execute_result"
    }
   ],
   "source": [
    "%time part1(example=False)"
   ]
  },
  {
   "cell_type": "code",
   "execution_count": 23,
   "id": "76b51fdd-f584-4025-9e97-58c7ce4272cd",
   "metadata": {},
   "outputs": [
    {
     "name": "stdout",
     "output_type": "stream",
     "text": [
      "CPU times: user 1min 50s, sys: 1.97 s, total: 1min 52s\n",
      "Wall time: 1min 53s\n"
     ]
    },
    {
     "data": {
      "text/plain": [
       "162987117690649"
      ]
     },
     "execution_count": 23,
     "metadata": {},
     "output_type": "execute_result"
    }
   ],
   "source": [
    "%time part2(example=False)"
   ]
  },
  {
   "cell_type": "code",
   "execution_count": null,
   "id": "fc4faa41-e4fd-4fb6-98dc-a432a73ab811",
   "metadata": {},
   "outputs": [],
   "source": []
  }
 ],
 "metadata": {
  "kernelspec": {
   "display_name": "Python 3 (ipykernel)",
   "language": "python",
   "name": "python3"
  },
  "language_info": {
   "codemirror_mode": {
    "name": "ipython",
    "version": 3
   },
   "file_extension": ".py",
   "mimetype": "text/x-python",
   "name": "python",
   "nbconvert_exporter": "python",
   "pygments_lexer": "ipython3",
   "version": "3.12.7"
  }
 },
 "nbformat": 4,
 "nbformat_minor": 5
}
