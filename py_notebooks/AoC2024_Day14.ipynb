{
 "cells": [
  {
   "cell_type": "code",
   "execution_count": 2,
   "id": "aa9e7234-56be-4b62-a3b9-3f3e24d4c526",
   "metadata": {},
   "outputs": [],
   "source": [
    "from getday import day\n",
    "import numpy as np\n",
    "import re"
   ]
  },
  {
   "cell_type": "code",
   "execution_count": null,
   "id": "f8805a7e-fe5f-4823-a8f1-31f8810e423d",
   "metadata": {},
   "outputs": [],
   "source": []
  },
  {
   "cell_type": "code",
   "execution_count": 3,
   "id": "ec450f46-fcf8-4b61-8457-bd2483637b31",
   "metadata": {},
   "outputs": [
    {
     "data": {
      "text/plain": [
       "218295000"
      ]
     },
     "execution_count": 3,
     "metadata": {},
     "output_type": "execute_result"
    }
   ],
   "source": [
    "# Part 1\n",
    "example = False\n",
    "width, height = (11, 7) if example else (101, 103)\n",
    "dt = 100\n",
    "q1, q2, q3, q4 = 0, 0, 0, 0\n",
    "for px, py, vx, vy in map(lambda t: list(map(int, t)), map(lambda line: re.search(r'p=(-?\\d+),(-?\\d+) v=(-?\\d+),(-?\\d+)', line).groups(), day(14, example).strip().splitlines())):\n",
    "    px = (px + dt * vx) % width\n",
    "    py = (py + dt * vy) % height\n",
    "    if px < width // 2 and py < height // 2:   q1 += 1\n",
    "    elif px < width // 2 and py > height // 2: q2 += 1\n",
    "    elif px > width // 2 and py < height // 2: q3 += 1\n",
    "    elif px > width // 2 and py > height // 2: q4 += 1\n",
    "q1*q2*q3*q4\n",
    "#218295000"
   ]
  },
  {
   "cell_type": "code",
   "execution_count": 4,
   "id": "1fdd976e-f0a9-4ff0-a71e-756d2fdb6d72",
   "metadata": {},
   "outputs": [
    {
     "name": "stdout",
     "output_type": "stream",
     "text": [
      "Part 2: 6870\n"
     ]
    }
   ],
   "source": [
    "# Part 2\n",
    "example = False\n",
    "width, height = (11, 7) if example else (101, 103)\n",
    "\n",
    "positions, velocities = [], []\n",
    "for px, py, vx, vy in map(lambda t: list(map(int, t)), map(lambda line: re.search(r'p=(-?\\d+),(-?\\d+) v=(-?\\d+),(-?\\d+)', line).groups(), day(14, example).strip().splitlines())):\n",
    "    positions.append((px, py))\n",
    "    velocities.append((vx, vy))\n",
    "    \n",
    "dt = 1\n",
    "all_pos = []\n",
    "qs = []\n",
    "for t in range(1, 9999):\n",
    "    q1, q2, q3, q4 = 0, 0, 0, 0\n",
    "    for i, ((px, py), (vx, vy)) in enumerate(zip(positions, velocities)):\n",
    "        px = (px + dt * vx) % width\n",
    "        py = (py + dt * vy) % height\n",
    "        if px < width // 2 and py < height // 2:    q1 += 1\n",
    "        elif px < width // 2 and py > height // 2:  q2 += 1\n",
    "        elif px > width // 2 and py < height // 2:  q3 += 1\n",
    "        elif px > width // 2 and py > height // 2:  q4 += 1\n",
    "        positions[i] = px, py\n",
    "    all_pos.append((t, positions[:], (width, height)))\n",
    "    qs.append((q1, q2, q3, q4))\n",
    "\n",
    "n_per_quad = np.array(qs)\n",
    "part2 = int((n_per_quad.argmax(axis=0)[n_per_quad.max(axis=0) == n_per_quad.max()] + 1)[0])\n",
    "print('Part 2:', part2)"
   ]
  },
  {
   "cell_type": "code",
   "execution_count": 5,
   "id": "17d24708-760a-4fb9-ac62-89bde69b9a22",
   "metadata": {},
   "outputs": [
    {
     "data": {
      "image/jpeg": "[encoded data removed]",
      "image/png": "[encoded data removed]",
      "text/plain": [
       "<PIL.Image.Image image mode=L size=101x103>"
      ]
     },
     "metadata": {},
     "output_type": "display_data"
    }
   ],
   "source": [
    "from PIL import Image \n",
    "\n",
    "room = np.zeros(shape=(height, width))\n",
    "for px, py in all_pos[part2-1][1]:\n",
    "    room[py, px] = 1\n",
    "img = Image.fromarray(np.uint8(room) * 255)\n",
    "display(img)"
   ]
  },
  {
   "cell_type": "code",
   "execution_count": null,
   "id": "d4620650-b88a-4846-bbe4-589485e9d639",
   "metadata": {},
   "outputs": [],
   "source": []
  }
 ],
 "metadata": {
  "kernelspec": {
   "display_name": "Python 3 (ipykernel)",
   "language": "python",
   "name": "python3"
  },
  "language_info": {
   "codemirror_mode": {
    "name": "ipython",
    "version": 3
   },
   "file_extension": ".py",
   "mimetype": "text/x-python",
   "name": "python",
   "nbconvert_exporter": "python",
   "pygments_lexer": "ipython3",
   "version": "3.12.5"
  }
 },
 "nbformat": 4,
 "nbformat_minor": 5
}
